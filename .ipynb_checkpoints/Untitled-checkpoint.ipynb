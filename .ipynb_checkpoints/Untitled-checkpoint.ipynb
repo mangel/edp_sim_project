{
 "cells": [
  {
   "cell_type": "code",
   "execution_count": 1,
   "metadata": {},
   "outputs": [],
   "source": [
    "import numpy as np\n",
    "import matplotlib.pyplot as plt\n",
    "%matplotlib inline\n",
    "\n",
    "G = 6.674e-11\n",
    "SUN_MASS = 1.989e30\n",
    "EARTH_MASS = 5.972e24"
   ]
  },
  {
   "cell_type": "code",
   "execution_count": null,
   "metadata": {},
   "outputs": [],
   "source": []
  },
  {
   "cell_type": "code",
   "execution_count": 2,
   "metadata": {},
   "outputs": [],
   "source": [
    "sun={}\n",
    "sun[\"mass\"]=1\n",
    "sun[\"pos\"]=(0,0,0)\n",
    "\n",
    "earth={}\n",
    "earth[\"mass\"]=1\n",
    "earth[\"pos\"]=(10,0,0)"
   ]
  },
  {
   "cell_type": "code",
   "execution_count": 3,
   "metadata": {},
   "outputs": [],
   "source": [
    "pos = lambda a,b, t: [a*np.cos(t), b*np.sin(t)]"
   ]
  },
  {
   "cell_type": "code",
   "execution_count": 4,
   "metadata": {},
   "outputs": [
    {
     "ename": "SyntaxError",
     "evalue": "invalid syntax (<ipython-input-4-47256c820f78>, line 4)",
     "output_type": "error",
     "traceback": [
      "\u001b[0;36m  File \u001b[0;32m\"<ipython-input-4-47256c820f78>\"\u001b[0;36m, line \u001b[0;32m4\u001b[0m\n\u001b[0;31m    trajectory = pos(a,b,t)T\u001b[0m\n\u001b[0m                           ^\u001b[0m\n\u001b[0;31mSyntaxError\u001b[0m\u001b[0;31m:\u001b[0m invalid syntax\n"
     ]
    }
   ],
   "source": [
    "a=20\n",
    "b=10\n",
    "t=np.linspace(0,2*np.pi,100)\n",
    "trajectory = pos(a,b,t)T"
   ]
  },
  {
   "cell_type": "code",
   "execution_count": 5,
   "metadata": {},
   "outputs": [
    {
     "ename": "NameError",
     "evalue": "name 'trajectory' is not defined",
     "output_type": "error",
     "traceback": [
      "\u001b[0;31m---------------------------------------------------------------------------\u001b[0m",
      "\u001b[0;31mNameError\u001b[0m                                 Traceback (most recent call last)",
      "\u001b[0;32m<ipython-input-5-b869ee2e3d35>\u001b[0m in \u001b[0;36m<module>\u001b[0;34m\u001b[0m\n\u001b[1;32m      1\u001b[0m \u001b[0mplt\u001b[0m\u001b[0;34m.\u001b[0m\u001b[0mscatter\u001b[0m\u001b[0;34m(\u001b[0m\u001b[0;34m[\u001b[0m\u001b[0msun\u001b[0m\u001b[0;34m[\u001b[0m\u001b[0;34m\"pos\"\u001b[0m\u001b[0;34m]\u001b[0m\u001b[0;34m[\u001b[0m\u001b[0;36m0\u001b[0m\u001b[0;34m]\u001b[0m\u001b[0;34m]\u001b[0m\u001b[0;34m,\u001b[0m \u001b[0;34m[\u001b[0m\u001b[0msun\u001b[0m\u001b[0;34m[\u001b[0m\u001b[0;34m\"pos\"\u001b[0m\u001b[0;34m]\u001b[0m\u001b[0;34m[\u001b[0m\u001b[0;36m1\u001b[0m\u001b[0;34m]\u001b[0m\u001b[0;34m]\u001b[0m\u001b[0;34m,\u001b[0m \u001b[0;34m)\u001b[0m\u001b[0;34m\u001b[0m\u001b[0;34m\u001b[0m\u001b[0m\n\u001b[0;32m----> 2\u001b[0;31m \u001b[0mplt\u001b[0m\u001b[0;34m.\u001b[0m\u001b[0mscatter\u001b[0m\u001b[0;34m(\u001b[0m\u001b[0mtrajectory\u001b[0m\u001b[0;34m[\u001b[0m\u001b[0;36m0\u001b[0m\u001b[0;34m]\u001b[0m\u001b[0;34m,\u001b[0m \u001b[0mtrajectory\u001b[0m\u001b[0;34m[\u001b[0m\u001b[0;36m1\u001b[0m\u001b[0;34m]\u001b[0m\u001b[0;34m)\u001b[0m\u001b[0;34m\u001b[0m\u001b[0;34m\u001b[0m\u001b[0m\n\u001b[0m",
      "\u001b[0;31mNameError\u001b[0m: name 'trajectory' is not defined"
     ]
    },
    {
     "data": {
      "image/png": "[encoded data removed]",
      "text/plain": [
       "<Figure size 432x288 with 1 Axes>"
      ]
     },
     "metadata": {
      "needs_background": "light"
     },
     "output_type": "display_data"
    }
   ],
   "source": [
    "plt.scatter([sun[\"pos\"][0]], [sun[\"pos\"][1]], )\n",
    "plt.scatter(trajectory[0], trajectory[1])"
   ]
  },
  {
   "cell_type": "code",
   "execution_count": 6,
   "metadata": {},
   "outputs": [],
   "source": [
    "f_sun = lambda r: -G * SUN_MASS*EARTH_MASS / r**2"
   ]
  },
  {
   "cell_type": "code",
   "execution_count": 7,
   "metadata": {},
   "outputs": [
    {
     "data": {
      "text/plain": [
       "-3.4267494866737464e+22"
      ]
     },
     "execution_count": 7,
     "metadata": {},
     "output_type": "execute_result"
    }
   ],
   "source": [
    "f_sun(152.1e9)"
   ]
  },
  {
   "cell_type": "code",
   "execution_count": 8,
   "metadata": {},
   "outputs": [
    {
     "data": {
      "text/plain": [
       "State([[ 6.65416291e-01 -1.28949767e-02 -5.59573886e-01 -2.28195474e-01\n",
       "   1.32899695e+00]\n",
       " [ 1.20670254e+00 -1.15225380e-01 -3.14436345e-01 -8.34097774e-01\n",
       "   2.32628017e-01]\n",
       " [-5.97364296e-01  1.27795743e-01 -5.59887006e-01 -7.88983355e-01\n",
       "   4.67822587e-01]\n",
       " [ 1.31374468e+00  1.03588748e-02 -1.60799646e-01  7.48058552e-01\n",
       "   5.74245980e-02]\n",
       " [-1.60470359e-01 -9.48451023e-02  2.25485807e-01  9.62709149e-01\n",
       "   1.25141313e+00]\n",
       " [ 3.28179195e-01 -1.93829284e-01 -9.71118633e-01 -6.48140246e-01\n",
       "  -3.71048837e-01]\n",
       " [-8.29762585e-03  1.03614342e-01  1.66354452e-01 -3.30369808e-01\n",
       "   2.45980227e-01]\n",
       " [ 3.25661010e-01  1.30382640e-02  1.86900101e-02 -9.29938130e-01\n",
       "  -8.96484777e-01]\n",
       " [ 1.07407579e-01 -2.11490932e-01 -1.10100776e+00 -7.03982591e-01\n",
       "  -7.27036765e-01]\n",
       " [-9.32038845e-01  2.20182515e-01 -3.99664330e-01  2.02635143e-01\n",
       "  -1.21340143e+00]\n",
       " [ 2.04149233e-01 -9.82669094e-02 -2.72768651e-01  3.44223810e-01\n",
       "  -4.88100039e-01]\n",
       " [-3.49732527e-01 -7.56776039e-02 -4.32654087e-02 -7.17309388e-02\n",
       "  -8.79619561e-01]\n",
       " [ 2.25619096e-02 -6.70761392e-02 -3.09895932e-01 -9.01527105e-01\n",
       "  -4.34205253e-01]\n",
       " [-5.92159078e-01 -5.35229713e-02 -2.26329078e-01 -5.15387766e-01\n",
       "  -3.08438442e-02]\n",
       " [ 7.83595506e-01  1.62570507e-01 -9.85875689e-01  1.78435127e+00\n",
       "  -3.37423734e-01]\n",
       " [ 4.60019542e-01 -3.31172953e-02  1.48257247e-01  5.96570636e-01\n",
       "  -8.02321309e-02]\n",
       " [-8.22768488e-01 -2.71997944e-01  6.81456059e-01 -4.63270003e-01\n",
       "  -7.78229189e-01]\n",
       " [ 3.89494864e-01 -9.51227435e-02 -1.33780984e+00  1.13214517e+00\n",
       "  -8.78258821e-03]\n",
       " [-1.02739879e+00  4.36849206e-02  1.50946866e+00 -7.04431448e-01\n",
       "   1.00500836e+00]\n",
       " [ 6.13646226e-01  6.69697925e-02  2.40467308e-01  1.13953481e+00\n",
       "  -9.69137125e-01]\n",
       " [ 7.92849650e-01  4.64791383e-02  7.22754849e-01  1.20096617e+00\n",
       "   7.64518671e-01]\n",
       " [ 1.01429248e+00 -1.18340976e-01  8.67637591e-01 -1.31567901e+00\n",
       "   2.01461561e-01]\n",
       " [-2.37195524e-01 -9.97644911e-02 -3.30189654e-02  1.20019718e+00\n",
       "  -7.60694559e-01]\n",
       " [ 9.30028861e-01  1.42391641e-01  6.37422091e-01  5.18463413e-01\n",
       "   9.86247851e-01]\n",
       " [-3.26509447e-01  2.99545457e-02 -2.23901033e-01 -1.35772315e+00\n",
       "   1.37163727e+00]\n",
       " [ 1.32080576e+00  6.61103250e-02  7.40504137e-01 -5.10360636e-01\n",
       "  -1.01588277e+00]\n",
       " [-1.61573235e-01 -4.92572940e-02 -1.34077823e-01 -6.49561917e-01\n",
       "  -1.50205005e+00]\n",
       " [-1.03091010e+00 -3.11866289e-01  7.12818009e-01 -2.22833828e-02\n",
       "  -9.37768347e-01]\n",
       " [ 7.12359262e-01  8.00000762e-04 -5.74309817e-01  1.78504611e+00\n",
       "  -6.11441034e-01]\n",
       " [-1.45124525e-01 -9.10727736e-02  1.97352862e-01 -2.87406781e+00\n",
       "   1.69576308e+00]\n",
       " [-8.84646203e-01 -1.76551857e-01 -6.45786008e-02 -8.49324687e-01\n",
       "   9.99983282e-01]\n",
       " [ 1.88598818e-01 -6.81537416e-02  2.36177694e-01 -1.02757192e-01\n",
       "  -1.88124418e-01]\n",
       " [ 4.75724276e-01 -1.23284240e-01 -1.39280254e-01 -3.58846702e-01\n",
       "  -5.83106852e-01]\n",
       " [ 8.35750115e-01 -2.43511682e-02 -6.78303257e-01  5.33694174e-01\n",
       "  -6.38396951e-01]\n",
       " [-1.49991976e+00 -7.27135228e-02  3.56346670e-01 -2.11365116e+00\n",
       "  -5.12570875e-01]\n",
       " [-1.02920034e+00 -4.35765453e-02 -3.52316184e-01 -2.92266978e-01\n",
       "  -4.22171542e-01]\n",
       " [-7.42637871e-01  3.02883422e-01  5.46969357e-01  1.09095216e+00\n",
       "   2.39259451e-01]\n",
       " [ 2.02305436e+00 -5.05089389e-02  1.25246899e-01  1.18119985e-01\n",
       "   1.35162949e+00]\n",
       " [-1.90766322e+00  3.04761439e-02  1.86859652e-01  3.04460538e-01\n",
       "   1.99849418e-01]\n",
       " [-1.00677284e+00  1.84232019e-01 -1.21308210e+00  1.11085071e+00\n",
       "  -5.42643105e-01]\n",
       " [-3.54951491e-03 -1.75397970e-02 -2.97934343e-01 -1.36762696e+00\n",
       "   2.02378486e+00]\n",
       " [-9.94722183e-01 -1.31487475e-01 -4.06933665e-01  5.04567707e-01\n",
       "  -5.16132365e-01]\n",
       " [ 5.75822397e-01 -8.28434951e-02 -1.99866372e-01 -1.50326081e+00\n",
       "  -8.25954200e-01]\n",
       " [-3.05898804e-01 -2.46975779e-01  1.02561905e+00 -1.26079370e+00\n",
       "  -5.94338520e-01]\n",
       " [-7.89372527e-01 -1.68700281e-01 -1.03151842e+00 -9.07789085e-01\n",
       "  -1.04103399e+00]\n",
       " [ 3.24456503e-02  8.01023656e-02  6.35227461e-02  7.35489667e-02\n",
       "  -2.19935577e-01]\n",
       " [-1.09378208e-01 -1.05558208e-01 -2.46338461e-01 -5.39983347e-01\n",
       "  -1.18220030e+00]\n",
       " [-1.03545691e-02  1.87770010e-01 -6.63528453e-01 -6.16610757e-01\n",
       "   2.50686582e-02]\n",
       " [ 6.79725911e-01  1.37544004e-01  5.75356076e-01 -6.80022498e-01\n",
       "  -3.72870515e-01]\n",
       " [ 4.21202641e-02  2.97104095e-03 -2.56957068e-01  3.28213910e-01\n",
       "   1.53480037e-01]\n",
       " [ 8.90185812e-01 -1.33735661e-01  5.80879842e-01  1.39315439e+00\n",
       "  -5.45896371e-01]\n",
       " [ 1.09689277e+00 -1.99410392e-01 -5.94206905e-01 -1.76489242e+00\n",
       "   5.34172641e-01]\n",
       " [-5.12353926e-02 -9.19827232e-02 -2.43947748e-01 -8.02750772e-01\n",
       "   8.06026618e-01]\n",
       " [-1.27193382e-01 -1.52114826e-02 -1.30578160e+00 -4.63059872e-02\n",
       "  -1.12143752e+00]\n",
       " [-3.88907784e-01  5.65043418e-02  9.26971111e-01 -1.63043524e+00\n",
       "   1.56491112e+00]\n",
       " [ 3.88509812e-01 -4.22289983e-02  3.23940798e-01  2.61525460e-01\n",
       "  -1.21032515e+00]\n",
       " [ 1.34563225e-01  4.81706571e-01 -3.50020507e-01  7.04389698e-02\n",
       "   2.50942120e-01]\n",
       " [-4.86227147e-01 -1.12497603e-02  1.07383501e+00  7.77308161e-01\n",
       "   1.02850428e+00]\n",
       " [ 2.22489549e-01 -1.36828344e-01  3.89333939e-01  8.57126752e-01\n",
       "  -1.35520633e+00]\n",
       " [-2.89833813e-01  3.98446619e-02  7.54720456e-01  6.84465438e-01\n",
       "  -1.67747007e+00]\n",
       " [ 1.68232274e-01  7.38966723e-02 -8.80014747e-01  5.96861725e-01\n",
       "  -3.48322212e-02]\n",
       " [-4.42477921e-01  7.89311149e-02  1.05004942e-01  6.09823949e-01\n",
       "   7.15624653e-01]\n",
       " [ 1.83747701e-01  2.46311243e-01  2.73590668e-01 -5.31610148e-01\n",
       "   1.38828864e+00]\n",
       " [ 1.37974829e+00 -7.39146476e-02  4.80535478e-01 -6.60688897e-02\n",
       "   2.10317446e-01]\n",
       " [ 1.21284856e+00  5.91982528e-02  5.30436814e-02 -1.27957282e+00\n",
       "  -7.16445316e-01]\n",
       " [ 1.28373598e-01 -3.68237662e-02  4.86601513e-02  9.97296114e-01\n",
       "   4.16199298e-01]\n",
       " [ 2.36916893e-01  1.18456943e-02  3.45967986e-02  7.74600116e-01\n",
       "  -6.43085670e-02]\n",
       " [ 2.63662400e-01  9.89212759e-02 -4.21742858e-01 -7.94639455e-01\n",
       "   8.38671666e-01]\n",
       " [ 8.56583398e-01 -1.57909043e-02 -3.64769158e-01 -2.42159034e-01\n",
       "   1.18052951e-01]\n",
       " [-6.01153202e-01 -1.02376322e-01  1.23849901e+00 -8.19599020e-01\n",
       "   7.30035498e-01]\n",
       " [-5.08000404e-01 -1.99220829e-01  6.62129419e-01  1.36827199e+00\n",
       "   3.34532586e-01]\n",
       " [ 7.38311137e-01  2.38621186e-01 -2.38022498e-01 -8.89774789e-01\n",
       "  -1.03038820e+00]\n",
       " [-1.11935616e+00  7.11637983e-02 -2.51364269e-01  4.80214540e-01\n",
       "  -7.89318819e-01]\n",
       " [-2.13028995e-01 -1.52050193e-01  2.52168833e-01 -6.96001060e-01\n",
       "  -1.30680249e+00]\n",
       " [-1.15554613e+00 -7.28690019e-02 -1.05665035e+00  1.20381185e-01\n",
       "  -5.24967066e-01]\n",
       " [-4.97898304e-01  3.55519417e-02  1.15732850e+00 -2.14970291e-01\n",
       "  -7.06321215e-01]\n",
       " [-3.81838648e-01 -7.25859854e-02  9.28694338e-02 -2.57139932e-02\n",
       "   5.62006203e-01]\n",
       " [-3.48219285e-01 -5.58750829e-02 -1.75555353e-02 -1.66947518e+00\n",
       "  -1.65023328e-01]\n",
       " [ 1.87940314e-01 -1.22930661e-01 -4.57295783e-01  4.52583181e-01\n",
       "   3.20712228e-01]\n",
       " [ 5.80026990e-01  3.41099858e-02 -5.32144113e-02  9.24937629e-01\n",
       "   2.09976236e+00]\n",
       " [ 2.42480751e-01 -1.71183843e-02 -1.89114741e-01  1.32786608e-01\n",
       "  -3.86428698e-01]\n",
       " [-8.12586334e-01 -9.90250795e-02  5.89882766e-01 -5.99335968e-01\n",
       "   5.37594074e-01]\n",
       " [-1.20015192e+00 -1.10710949e-01 -4.47232015e-01 -2.11755493e-01\n",
       "   2.23251105e-01]\n",
       " [-2.57844716e-01  1.20955521e-01 -8.40449057e-02  4.62854850e-01\n",
       "   6.79317370e-01]\n",
       " [-4.41302474e-01 -5.50898810e-02 -3.18345263e-01  7.77994123e-01\n",
       "  -5.69188065e-01]\n",
       " [-9.40021768e-02 -8.47129542e-02 -6.34207575e-01 -1.25736637e+00\n",
       "   1.18502136e+00]\n",
       " [ 5.42390009e-01 -1.66532431e-01  1.14803953e+00 -9.92957637e-02\n",
       "   1.74618972e+00]\n",
       " [ 6.16513153e-01  2.76341668e-02 -7.49886467e-01  8.54494692e-01\n",
       "  -4.46402296e-01]\n",
       " [ 7.01081333e-01 -5.08796797e-02 -3.11020642e-01 -1.98724522e-01\n",
       "   8.87341495e-02]\n",
       " [ 7.09876338e-01  2.46061376e-01 -1.18157866e-01 -3.03932658e-01\n",
       "  -5.87088701e-01]\n",
       " [ 1.95142186e-02 -4.71023010e-02 -8.07676707e-01 -4.54964618e-01\n",
       "   7.95984095e-01]\n",
       " [ 7.88367598e-01  7.39535977e-02  1.28044573e+00  8.32232631e-02\n",
       "  -1.24719914e+00]\n",
       " [ 4.39772137e-01 -1.15602048e-01  7.28190683e-01  3.48696686e-01\n",
       "  -5.15395325e-01]\n",
       " [-1.41483235e+00 -4.91787325e-02 -1.27245231e-01 -1.17783553e+00\n",
       "   1.56071246e+00]\n",
       " [-1.08275863e-01 -3.71911063e-02  8.40755916e-01  2.83327641e-01\n",
       "  -1.53932112e-01]\n",
       " [-5.23108097e-01 -2.28818410e-01 -4.89320561e-01 -1.41902217e+00\n",
       "  -2.00660427e+00]\n",
       " [ 3.89427901e-01  4.43927271e-02  2.69859520e-01 -1.96135757e+00\n",
       "  -5.52662522e-01]\n",
       " [ 2.28987674e-01  5.41057891e-02 -3.47629823e-01  1.13146697e+00\n",
       "   2.90624471e-01]\n",
       " [-2.84184012e-01  1.20652920e-02  3.52664810e-01  9.52826549e-01\n",
       "   3.37522145e-01]\n",
       " [ 3.74150000e-01 -7.15489947e-02  3.58762970e-01  1.32634551e-01\n",
       "   2.07954029e-01]], log_prob=[-2.03593912 -2.23430032 -1.80585693 -1.73381226 -2.05531059 -3.04272942\n",
       " -0.55976347 -1.13184643 -3.8952291  -3.88649811 -0.73966249 -0.88327141\n",
       " -0.86630092 -0.60230655 -4.51443113 -0.43689347 -4.58337198 -3.34586689\n",
       " -4.68904446 -1.9207785  -2.42146846 -3.25949705 -1.62736119 -2.83423203\n",
       " -2.51758205 -3.1276033  -1.9782086  -5.94883843 -2.79015217 -6.8842769\n",
       " -2.97147808 -0.31109854 -1.11926175 -1.592089   -4.76935514 -1.25558774\n",
       " -5.11446819 -4.74178048 -3.09934744 -4.82382875 -4.05245983 -2.01155732\n",
       " -2.28918009 -4.87152627 -4.1398577  -0.29674949 -1.67937335 -2.13334633\n",
       " -1.87141097 -0.15680358 -3.01316866 -4.85017973 -1.21931916 -2.99659841\n",
       " -4.47209421 -1.40400494 -9.37914124 -2.67958919 -2.67153733 -3.08664387\n",
       " -1.37293978 -0.98364669 -4.04485493 -2.06964597 -2.57732498 -0.727802\n",
       " -0.37759481 -1.5011316  -0.80631251 -3.31398775 -3.39558113 -3.94338681\n",
       " -1.85902888 -2.50838009 -2.85224798 -2.26119498 -0.56265133 -1.73819636\n",
       " -1.06355342 -3.93253838 -0.21882918 -1.74401828 -1.95165875 -1.08530516\n",
       " -0.95730359 -2.63293546 -5.12181946 -1.55613071 -0.64412799 -3.11247947\n",
       " -1.4456339  -3.82867794 -1.58459649 -4.21973396 -0.98410149 -6.54084269\n",
       " -2.57357387 -1.05304507 -0.79139591 -0.51236245], blobs=None, random_state=('MT19937', array([3122636652, 1198825465, 1922263408, 2771478483, 2357121426,\n",
       "        345483084, 3515256267, 2117254495,  972006225, 2971180549,\n",
       "       3668813587,  166733938, 1807207253, 2283051094, 1673564781,\n",
       "       2241635875, 1949043073, 1698230933, 3064728774,  309229735,\n",
       "       3433435529, 3775652302, 1060435440, 1684367615, 3769385450,\n",
       "       4009618387, 2554585215, 2414179383, 1612933072, 2879496913,\n",
       "       2639231929, 3908153588, 3952349566, 3015362975, 2719468881,\n",
       "       1713215567, 1089568709, 2201149996,  449294805, 3469799752,\n",
       "       3807555477, 1139491597, 2890401500, 2248353472,  268935441,\n",
       "       3038813215,  406319041, 2916900417, 1168846900,  562923198,\n",
       "       2713935208, 3755651051, 3897290886,  955702244, 1941972160,\n",
       "       4158974352, 3412439770, 4175798886, 1486403813, 3682449558,\n",
       "        758173833,  158208375, 2551500835, 3866225201, 4293826817,\n",
       "       2443774987, 2037920278,  651590021, 2542956658, 1235096859,\n",
       "       2034506332, 3199440692,  329082932, 3082638451,  692305015,\n",
       "       3012158076,  842175624,   20709662, 3069989037,  764512912,\n",
       "       2845643703, 2473231177, 3369544521, 1722857695, 3126620302,\n",
       "       1120898321, 2177201612, 2060538581,  761252712,  460787757,\n",
       "         47491084, 3322248936, 3966965593, 3320006064, 3005599103,\n",
       "        472231241, 2942421244, 1325012547, 2944865792, 3492022912,\n",
       "       1820127733, 1503381371,  505694403, 2611282418, 4061487269,\n",
       "        597824770, 1061134507, 2862236999,  344667098, 1075805463,\n",
       "       4116871344, 3390915544, 4184273944, 1422126039, 1762743833,\n",
       "       1726667011, 3853631480, 1871923104, 3088559927,  986906133,\n",
       "        979247514, 2453778105, 2815077207, 3109871251, 4094400550,\n",
       "       3833333746, 2443548844,  134744749,  775595340, 3957068106,\n",
       "       1437501447, 1227303256, 1790345153, 1992754171, 1592117215,\n",
       "         45319250, 2468953556, 2944482612, 1950297295, 3560780502,\n",
       "        999847041, 3142782378, 1894369795,  668067927, 1339640479,\n",
       "       3565462369, 1963502355, 2917626553, 2330468537, 2668856118,\n",
       "       2207873557, 3062748542, 1927408272, 1559905188,   61493540,\n",
       "       3518973568, 1477251879, 1225315018, 1969668451, 1850710480,\n",
       "       2412079510, 2125325128, 1036860201, 2564300329,  383100847,\n",
       "       2967954531, 2962800583, 2050847298,  536279493, 2438045921,\n",
       "       2876661042, 2582457749, 1983199956,  215794493, 3604854788,\n",
       "       2839120453, 3180353280, 2411439130, 3157760161, 3825019237,\n",
       "       3265620994, 3270034072, 3241687668,   45901774, 3461687936,\n",
       "       3636718534, 3848173118, 1494281281, 2805593891,  220015620,\n",
       "       2619997940, 2681658275, 3111165221,  293660008, 2218165992,\n",
       "       1130908130, 1529913881, 3788503071, 2369472033, 2797866786,\n",
       "       1463043801, 2608880915, 1665439385,  596027541, 1722047282,\n",
       "       2905766845, 2177542055, 3479652985, 2172553969,  115428784,\n",
       "       4166079751,  109039592, 2722736394, 2982357427, 2461009959,\n",
       "       2080730856, 2373523334,  777620645, 2223240370, 2673243865,\n",
       "       2856405979, 3250544929, 1906567947, 4156853714, 1027266500,\n",
       "       1810096366, 2812375349, 4023886820, 1720651823, 1299628401,\n",
       "       1454364249, 1926262346, 2571148388,  516228624, 2036770080,\n",
       "       2357277832, 2917735656,  132990992, 1474216878,  213240824,\n",
       "       2029826844, 4044006548, 2920998579, 3831895910, 1851012316,\n",
       "       3310649378, 3367009775, 3428296854, 3208130586, 3025183797,\n",
       "       3761102584, 3815573581, 1021550750, 2687886349, 1549373469,\n",
       "        705269977, 1149862705, 3007334636, 2837664393,  979174497,\n",
       "       3750978749, 1976780166,   24574511, 3909396527,  193877813,\n",
       "       1096446481, 4002990382, 4043027003, 3022116099, 3473289536,\n",
       "       2700966278,   13776657,  359392279, 1554617529, 3950692140,\n",
       "       2305205887, 2756616333, 1092113351, 4133137773,   60055564,\n",
       "       1867521879, 3975113878, 1957430143, 2464871270, 2504157519,\n",
       "       3397992829, 3869849671,  240660278, 2357018017, 4196438493,\n",
       "        879662643, 1169048344,  369807864, 1223977332, 1717670296,\n",
       "       2143236961, 2012327898, 1063984564, 1804449321,  262930593,\n",
       "        225907635, 2589964073, 1893825127, 2361721349, 3126410657,\n",
       "       3197959471, 4244780118, 2223934193, 1249367213, 2186281917,\n",
       "       4194276519, 3250122447, 4260085826, 3582379054, 2607235095,\n",
       "        702120533, 3009437765, 3221683604,  927654366, 1178128060,\n",
       "       2287093476, 3680862414, 4163325018,  622062104, 2583321131,\n",
       "        371867479, 2596715046,  922528257, 3164759217, 1048888360,\n",
       "       3020187919, 2914738925, 1072232583, 3678478063, 1881671697,\n",
       "       3784791720,  903092904, 3074175968, 1951944842,  707254372,\n",
       "        366627838, 4063939966, 1155845371,  275737612, 2315573831,\n",
       "        490089490, 1576561197,  903772929, 4095116067,  339205531,\n",
       "        568540233,   27993477, 3862142761, 1967285421, 4075623893,\n",
       "       2970850761, 1908987043, 3822560577, 3276729043, 2312162583,\n",
       "       1166345928, 1144772836, 3468007699,  761683459, 4230814947,\n",
       "         23933488, 1103346961, 2692107178,   78125300, 1173438832,\n",
       "       2851664247, 2399242277, 3157677512,  711578020,  622758158,\n",
       "       1017822462,   30465040, 3308173861,  601014878, 1227694169,\n",
       "       3674161689, 2584936582, 1543499189, 1910981987, 3064422816,\n",
       "       2203538812, 4240279143, 1806677132, 1681779172,  895824580,\n",
       "       1944728108, 3976964439,  108146303, 4085103709,  835635880,\n",
       "       2549205973,  890219927, 2751817169, 1951441415, 3116231734,\n",
       "       1097775174, 3121039537,  153558721, 2636285772, 4227957643,\n",
       "       3696667534, 2161401417,  472656563, 3909245078, 3500858283,\n",
       "        775635983,  932200133,  932076328,  425959429, 1240229397,\n",
       "       3954118266,  197639023, 1423400554, 2665347419, 1668777433,\n",
       "       3550773685,  837115072, 3853081584, 3128487968,  570091261,\n",
       "       3885817871, 3376951930, 3998945594, 1604838236,  696291593,\n",
       "        436664738,  941530037, 2374526815, 3714150623, 3550925334,\n",
       "        669908270, 1977792879, 1738916130, 3030100357,  276760749,\n",
       "       2890503388,  299297726, 1636490959, 1728554491, 2495529193,\n",
       "       3595888389, 2093579343,  359697700, 1744706873,  453738335,\n",
       "       1632675606, 1896861857,  285756118, 3948033024, 2385651503,\n",
       "       3259034096, 2623664859, 2913648831, 1060146020,  583403785,\n",
       "        919450261, 3598417735, 2742724898, 1747076392, 3929933796,\n",
       "       2354396147, 4189011591, 2693793513, 2567299064, 2929297518,\n",
       "       2047174819, 3947488771,  734294271, 1462113484, 3673798841,\n",
       "       2989592992, 3430012536, 3975900084, 2080216048, 2661246844,\n",
       "       3525838076, 3822678532, 3440332043, 1731460935,  710490722,\n",
       "       1374136421,  399593859, 2431412879, 1068242429, 3814434474,\n",
       "       3823036487, 4220328695, 2131889171,   27176403, 3159803985,\n",
       "       2066821868, 3677900683, 2062564598, 2436965118,  968241456,\n",
       "        380964021, 1077514752, 3394702418,  731422866,  465058548,\n",
       "       1596128695, 4047194393, 1156220117, 4021431127,  118523444,\n",
       "       1626269781,  921535168, 1666527788, 2722609304, 4215101032,\n",
       "        639945140, 4217759567, 1744251833, 3033647040, 2443825853,\n",
       "         75051342,  907507088,  584702740, 3242765596, 1124233432,\n",
       "        164793266, 3195344445, 2110354019,  322164241, 2370328057,\n",
       "       4200620980,  331842485,  943297520, 1633684682, 4089512387,\n",
       "       3521637303, 3737161231, 3019199174, 3737526219, 3203362177,\n",
       "        915398982, 2310878989,  416593922, 3601979267, 2044440317,\n",
       "        327734553, 3465724017, 3758843866,  754579935,  258451174,\n",
       "        127973580,  716106438, 2908171148, 3476518010, 1212315602,\n",
       "        821324357,  989957239, 2280600994, 1270931689, 3261425345,\n",
       "       2936164658, 2439786847, 2627785610, 1915761887, 1841788625,\n",
       "       3355267604,   84665000, 3492133757, 3318158803, 2216452038,\n",
       "       1644236472, 1620882588, 1922955774, 1062209988,  619989096,\n",
       "       3522194448, 1361398002, 3959854225, 2918934030,  515908378,\n",
       "       2847652235, 2013915071, 3679920046, 1071841222, 2296051289,\n",
       "       1266380160, 2188501523, 2167070165, 3438051642, 1664505148,\n",
       "       2976199693, 1364903093,  179489579, 2486542604, 3385686790,\n",
       "       2414306646, 3414949967,  799271609, 2598934598, 3762060756,\n",
       "       3125940129, 3359655769, 1549672476, 1369342184, 2403797877,\n",
       "       3388626545, 3804200885, 2231006570, 3435362222, 2833426693,\n",
       "       3016799907, 1677963608, 1089327939, 3937151207,  275312022,\n",
       "       2672850050, 1348462255,  453726070, 2239684710, 2086629118,\n",
       "        372075488, 1211654158, 1598939328, 1744862753], dtype=uint32), 324, 0, 0.0))"
      ]
     },
     "execution_count": 8,
     "metadata": {},
     "output_type": "execute_result"
    }
   ],
   "source": [
    "import numpy as np\n",
    "import emcee\n",
    "\n",
    "def log_prob(x, ivar):\n",
    "    return -0.5 * np.sum(ivar * x ** 2)\n",
    "\n",
    "ndim, nwalkers = 5, 100\n",
    "ivar = 1. / np.random.rand(ndim)\n",
    "p0 = np.random.randn(nwalkers, ndim)\n",
    "\n",
    "sampler = emcee.EnsembleSampler(nwalkers, ndim, log_prob, args=[ivar])\n",
    "sampler.run_mcmc(p0, 10000)"
   ]
  },
  {
   "cell_type": "code",
   "execution_count": 1,
   "metadata": {},
   "outputs": [
    {
     "name": "stdout",
     "output_type": "stream",
     "text": [
      "Warning: Cannot change to a different GUI toolkit: notebook. Using widget instead.\n"
     ]
    }
   ],
   "source": [
    "# DRAW a vector field\n",
    "import numpy as np\n",
    "import matplotlib.pyplot as plt\n",
    "from matplotlib import cm\n",
    "\n",
    "from mpl_toolkits.mplot3d import Axes3D\n",
    "\n",
    "%matplotlib inline\n",
    "\n",
    "# rotate 3d graphs, and save\n",
    "%matplotlib widget\n",
    "%matplotlib notebook  "
   ]
  },
  {
   "cell_type": "code",
   "execution_count": 2,
   "metadata": {},
   "outputs": [
    {
     "data": {
      "application/vnd.jupyter.widget-view+json": {
       "model_id": "d6aa47046270470597177a0e172defac",
       "version_major": 2,
       "version_minor": 0
      },
      "text/plain": [
       "Canvas(toolbar=Toolbar(toolitems=[('Home', 'Reset original view', 'home', 'home'), ('Back', 'Back to previous …"
      ]
     },
     "metadata": {},
     "output_type": "display_data"
    },
    {
     "data": {
      "text/plain": [
       "Text(0, 0.5, 'Y')"
      ]
     },
     "execution_count": 2,
     "metadata": {},
     "output_type": "execute_result"
    }
   ],
   "source": [
    "x = np.linspace(-1,1,40)\n",
    "y = x**2\n",
    "plt.figure()\n",
    "plt.plot(x,y)\n",
    "plt.xlabel('X')\n",
    "plt.ylabel('Y')"
   ]
  },
  {
   "cell_type": "code",
   "execution_count": 3,
   "metadata": {},
   "outputs": [
    {
     "data": {
      "application/vnd.jupyter.widget-view+json": {
       "model_id": "b304395ef2ce4309b3afe7977d894d48",
       "version_major": 2,
       "version_minor": 0
      },
      "text/plain": [
       "Canvas(toolbar=Toolbar(toolitems=[('Home', 'Reset original view', 'home', 'home'), ('Back', 'Back to previous …"
      ]
     },
     "metadata": {},
     "output_type": "display_data"
    }
   ],
   "source": [
    "# Line in 3d\n",
    "fig = plt.figure()\n",
    "ax = fig.add_subplot(111, projection='3d')\n",
    "\n",
    "theta = np.linspace(-4*np.pi, 4*np.pi,100)\n",
    "r = 2\n",
    "x = r * np.sin(theta)\n",
    "y = r * np.cos(theta)\n",
    "z = 10*theta\n",
    "\n",
    "ax.plot(x, y, z, label='helix')\n",
    "ax.legend()\n",
    "plt.show()"
   ]
  },
  {
   "cell_type": "code",
   "execution_count": 15,
   "metadata": {},
   "outputs": [
    {
     "data": {
      "application/vnd.jupyter.widget-view+json": {
       "model_id": "dbb2a2a32dd54cd08b7602e2dac903c7",
       "version_major": 2,
       "version_minor": 0
      },
      "text/plain": [
       "Canvas(toolbar=Toolbar(toolitems=[('Home', 'Reset original view', 'home', 'home'), ('Back', 'Back to previous …"
      ]
     },
     "metadata": {},
     "output_type": "display_data"
    },
    {
     "ename": "ValueError",
     "evalue": "Argument Z must be 2-dimensional.",
     "output_type": "error",
     "traceback": [
      "\u001b[0;31m---------------------------------------------------------------------------\u001b[0m",
      "\u001b[0;31mValueError\u001b[0m                                Traceback (most recent call last)",
      "\u001b[0;32m<ipython-input-15-c70e3312f37f>\u001b[0m in \u001b[0;36m<module>\u001b[0;34m\u001b[0m\n\u001b[1;32m      7\u001b[0m \u001b[0mfig\u001b[0m \u001b[0;34m=\u001b[0m \u001b[0mplt\u001b[0m\u001b[0;34m.\u001b[0m\u001b[0mfigure\u001b[0m\u001b[0;34m(\u001b[0m\u001b[0mfigsize\u001b[0m\u001b[0;34m=\u001b[0m\u001b[0;34m(\u001b[0m\u001b[0;36m5\u001b[0m\u001b[0;34m,\u001b[0m\u001b[0;36m3\u001b[0m\u001b[0;34m)\u001b[0m\u001b[0;34m)\u001b[0m\u001b[0;34m\u001b[0m\u001b[0;34m\u001b[0m\u001b[0m\n\u001b[1;32m      8\u001b[0m \u001b[0max\u001b[0m \u001b[0;34m=\u001b[0m \u001b[0mfig\u001b[0m\u001b[0;34m.\u001b[0m\u001b[0madd_subplot\u001b[0m\u001b[0;34m(\u001b[0m\u001b[0;36m111\u001b[0m\u001b[0;34m,\u001b[0m \u001b[0mprojection\u001b[0m\u001b[0;34m=\u001b[0m\u001b[0;34m'3d'\u001b[0m\u001b[0;34m)\u001b[0m\u001b[0;34m\u001b[0m\u001b[0;34m\u001b[0m\u001b[0m\n\u001b[0;32m----> 9\u001b[0;31m \u001b[0msplot\u001b[0m \u001b[0;34m=\u001b[0m \u001b[0max\u001b[0m\u001b[0;34m.\u001b[0m\u001b[0mplot_surface\u001b[0m\u001b[0;34m(\u001b[0m\u001b[0mx\u001b[0m\u001b[0;34m,\u001b[0m\u001b[0my\u001b[0m\u001b[0;34m,\u001b[0m\u001b[0mz\u001b[0m\u001b[0;34m,\u001b[0m \u001b[0mcmap\u001b[0m\u001b[0;34m=\u001b[0m\u001b[0mcm\u001b[0m\u001b[0;34m.\u001b[0m\u001b[0mcoolwarm\u001b[0m\u001b[0;34m)\u001b[0m\u001b[0;34m\u001b[0m\u001b[0;34m\u001b[0m\u001b[0m\n\u001b[0m\u001b[1;32m     10\u001b[0m \u001b[0mfig\u001b[0m\u001b[0;34m.\u001b[0m\u001b[0mcolorbar\u001b[0m\u001b[0;34m(\u001b[0m\u001b[0msplot\u001b[0m\u001b[0;34m)\u001b[0m\u001b[0;34m\u001b[0m\u001b[0;34m\u001b[0m\u001b[0m\n\u001b[1;32m     11\u001b[0m \u001b[0max\u001b[0m\u001b[0;34m.\u001b[0m\u001b[0mset_xlabel\u001b[0m\u001b[0;34m(\u001b[0m\u001b[0;34m'X'\u001b[0m\u001b[0;34m)\u001b[0m\u001b[0;34m\u001b[0m\u001b[0;34m\u001b[0m\u001b[0m\n",
      "\u001b[0;32m/opt/anaconda/anaconda3/lib/python3.8/site-packages/mpl_toolkits/mplot3d/axes3d.py\u001b[0m in \u001b[0;36mplot_surface\u001b[0;34m(self, X, Y, Z, norm, vmin, vmax, lightsource, *args, **kwargs)\u001b[0m\n\u001b[1;32m   1495\u001b[0m \u001b[0;34m\u001b[0m\u001b[0m\n\u001b[1;32m   1496\u001b[0m         \u001b[0;32mif\u001b[0m \u001b[0mZ\u001b[0m\u001b[0;34m.\u001b[0m\u001b[0mndim\u001b[0m \u001b[0;34m!=\u001b[0m \u001b[0;36m2\u001b[0m\u001b[0;34m:\u001b[0m\u001b[0;34m\u001b[0m\u001b[0;34m\u001b[0m\u001b[0m\n\u001b[0;32m-> 1497\u001b[0;31m             \u001b[0;32mraise\u001b[0m \u001b[0mValueError\u001b[0m\u001b[0;34m(\u001b[0m\u001b[0;34m\"Argument Z must be 2-dimensional.\"\u001b[0m\u001b[0;34m)\u001b[0m\u001b[0;34m\u001b[0m\u001b[0;34m\u001b[0m\u001b[0m\n\u001b[0m\u001b[1;32m   1498\u001b[0m         \u001b[0;32mif\u001b[0m \u001b[0mnp\u001b[0m\u001b[0;34m.\u001b[0m\u001b[0many\u001b[0m\u001b[0;34m(\u001b[0m\u001b[0mnp\u001b[0m\u001b[0;34m.\u001b[0m\u001b[0misnan\u001b[0m\u001b[0;34m(\u001b[0m\u001b[0mZ\u001b[0m\u001b[0;34m)\u001b[0m\u001b[0;34m)\u001b[0m\u001b[0;34m:\u001b[0m\u001b[0;34m\u001b[0m\u001b[0;34m\u001b[0m\u001b[0m\n\u001b[1;32m   1499\u001b[0m             cbook._warn_external(\n",
      "\u001b[0;31mValueError\u001b[0m: Argument Z must be 2-dimensional."
     ]
    }
   ],
   "source": [
    "# Plot surface\n",
    "N=50\n",
    "x = np.linspace(-1,1,N)\n",
    "y = np.linspace(-1,1,N)\n",
    "z = np.linspace(-1,1,N)\n",
    "\n",
    "fig = plt.figure(figsize=(5,3))\n",
    "ax = fig.add_subplot(111, projection='3d')\n",
    "splot = ax.plot_surface(x,y,z, cmap=cm.coolwarm)\n",
    "fig.colorbar(splot)\n",
    "ax.set_xlabel('X')\n",
    "ax.set_ylabel('Y')\n",
    "ax.set_zlabel('Z')\n",
    "plt.show()"
   ]
  },
  {
   "cell_type": "code",
   "execution_count": 5,
   "metadata": {},
   "outputs": [
    {
     "data": {
      "application/vnd.jupyter.widget-view+json": {
       "model_id": "3d4a6d16247e4124ba43ef7fee554c05",
       "version_major": 2,
       "version_minor": 0
      },
      "text/plain": [
       "Canvas(toolbar=Toolbar(toolitems=[('Home', 'Reset original view', 'home', 'home'), ('Back', 'Back to previous …"
      ]
     },
     "metadata": {},
     "output_type": "display_data"
    }
   ],
   "source": [
    "#countour plot\n",
    "plt.figure()\n",
    "plt.contour(x,y,z, levels=50, cmap=cm.coolwarm)\n",
    "plt.colorbar()\n",
    "plt.show()"
   ]
  },
  {
   "cell_type": "code",
   "execution_count": 6,
   "metadata": {},
   "outputs": [
    {
     "data": {
      "application/vnd.jupyter.widget-view+json": {
       "model_id": "1181d841e5414bc39ec12133059a1aaa",
       "version_major": 2,
       "version_minor": 0
      },
      "text/plain": [
       "Canvas(toolbar=Toolbar(toolitems=[('Home', 'Reset original view', 'home', 'home'), ('Back', 'Back to previous …"
      ]
     },
     "metadata": {},
     "output_type": "display_data"
    }
   ],
   "source": [
    "#countour fill plot\n",
    "plt.figure()\n",
    "plt.contourf(x,y,z, levels=100, cmap=cm.coolwarm)\n",
    "plt.colorbar()\n",
    "plt.show()"
   ]
  },
  {
   "cell_type": "code",
   "execution_count": 7,
   "metadata": {},
   "outputs": [
    {
     "data": {
      "application/vnd.jupyter.widget-view+json": {
       "model_id": "69184c31aefc4668a00a6c6d202836f1",
       "version_major": 2,
       "version_minor": 0
      },
      "text/plain": [
       "Canvas(toolbar=Toolbar(toolitems=[('Home', 'Reset original view', 'home', 'home'), ('Back', 'Back to previous …"
      ]
     },
     "metadata": {},
     "output_type": "display_data"
    }
   ],
   "source": [
    "# gradient\n",
    "gx, gy = np.gradient(z, 2/N)\n",
    "\n",
    "plt.figure()\n",
    "plt.contourf(x,y,z, levels=100, cmap=cm.coolwarm)\n",
    "plt.colorbar()\n",
    "plt.quiver(x,y,gx,gy,scale=200) # make the vector plot\n",
    "plt.show()"
   ]
  },
  {
   "cell_type": "code",
   "execution_count": 8,
   "metadata": {},
   "outputs": [
    {
     "data": {
      "application/vnd.jupyter.widget-view+json": {
       "model_id": "a5acf60cae4a43fbb2dff3de515e0146",
       "version_major": 2,
       "version_minor": 0
      },
      "text/plain": [
       "Canvas(toolbar=Toolbar(toolitems=[('Home', 'Reset original view', 'home', 'home'), ('Back', 'Back to previous …"
      ]
     },
     "metadata": {},
     "output_type": "display_data"
    }
   ],
   "source": [
    "# Vector fields\n",
    "x1 = np.linspace(-1,1,10)\n",
    "y1 = np.linspace(-1,1,10)\n",
    "x,y = np.meshgrid(x1,y1)\n",
    "u = -y # the magnitude ofthe vectorfield in xhat direction\n",
    "v = x # the magnitude ofthe vectorfield in yhat direction\n",
    "plt.figure()\n",
    "plt.quiver(x,y,u,v)\n",
    "plt.xlabel('X')\n",
    "plt.ylabel('Y')\n",
    "plt.show()"
   ]
  },
  {
   "cell_type": "code",
   "execution_count": 9,
   "metadata": {},
   "outputs": [
    {
     "data": {
      "application/vnd.jupyter.widget-view+json": {
       "model_id": "78c70f3b1bde4e769b5147a7b84a9492",
       "version_major": 2,
       "version_minor": 0
      },
      "text/plain": [
       "Canvas(toolbar=Toolbar(toolitems=[('Home', 'Reset original view', 'home', 'home'), ('Back', 'Back to previous …"
      ]
     },
     "metadata": {},
     "output_type": "display_data"
    }
   ],
   "source": [
    "# Vector fields 3d\n",
    "N=5\n",
    "x1 = np.linspace(-1,1,N)\n",
    "y1 = np.linspace(-1,1,N)\n",
    "z1 = np.linspace(-1,1,N)\n",
    "x,y,z = np.meshgrid(x1,y1,z1)\n",
    "\n",
    "u = x\n",
    "v = y\n",
    "w = z\n",
    "\n",
    "fig = plt.figure(figsize=(6,6))\n",
    "ax = fig.add_subplot(111, projection='3d')\n",
    "ax.quiver(x,y,z,u,v,w)\n",
    "ax.set_xlabel('X')\n",
    "ax.set_ylabel('Y')\n",
    "ax.set_zlabel('Z')\n",
    "plt.show()"
   ]
  },
  {
   "cell_type": "code",
   "execution_count": 10,
   "metadata": {},
   "outputs": [
    {
     "data": {
      "application/vnd.jupyter.widget-view+json": {
       "model_id": "f170f30561904bb09d0bbb3551d25c98",
       "version_major": 2,
       "version_minor": 0
      },
      "text/plain": [
       "Canvas(toolbar=Toolbar(toolitems=[('Home', 'Reset original view', 'home', 'home'), ('Back', 'Back to previous …"
      ]
     },
     "metadata": {},
     "output_type": "display_data"
    }
   ],
   "source": [
    "# plot a single vector\n",
    "x=0\n",
    "y=0\n",
    "z=0\n",
    "u=0\n",
    "v=2\n",
    "w=5\n",
    "\n",
    "fig = plt.figure(figsize=(5,5))\n",
    "ax = fig.add_subplot(111, projection='3d')\n",
    "ax.quiver(x,y,z,u,v,w)\n",
    "ax.set_xlabel('X')\n",
    "ax.set_ylabel('Y')\n",
    "ax.set_zlabel('Z')\n",
    "\n",
    "ax.set_xlim(-10, 10)\n",
    "ax.set_ylim(-10, 10)\n",
    "ax.set_zlim(-10, 10)\n",
    "\n",
    "plt.show()"
   ]
  },
  {
   "cell_type": "code",
   "execution_count": 11,
   "metadata": {},
   "outputs": [
    {
     "data": {
      "application/vnd.jupyter.widget-view+json": {
       "model_id": "40d992e9b5e048b48a088221044043b3",
       "version_major": 2,
       "version_minor": 0
      },
      "text/plain": [
       "Canvas(toolbar=Toolbar(toolitems=[('Home', 'Reset original view', 'home', 'home'), ('Back', 'Back to previous …"
      ]
     },
     "metadata": {},
     "output_type": "display_data"
    }
   ],
   "source": [
    "#plot vectors at the same time\n",
    "\n",
    "x = [0, 0, 0]\n",
    "y = [0, 0, 0]\n",
    "z = [0, 0, 0]\n",
    "\n",
    "u = [0, 3, 3]\n",
    "v = [2, 1, 1]\n",
    "w = [3, -2, 1]\n",
    "\n",
    "fig = plt.figure(figsize=(5,5))\n",
    "ax = fig.add_subplot(111, projection='3d')\n",
    "ax.quiver(x,y,z,u,v,w)\n",
    "ax.set_xlabel('X')\n",
    "ax.set_ylabel('Y')\n",
    "ax.set_zlabel('Z')\n",
    "\n",
    "ax.set_xlim(-5, 5)\n",
    "ax.set_ylim(-5, 5)\n",
    "ax.set_zlim(-5, 5)\n",
    "\n",
    "plt.show()"
   ]
  },
  {
   "cell_type": "code",
   "execution_count": 12,
   "metadata": {},
   "outputs": [],
   "source": [
    "# Coordinate systems\n",
    "# cartesian (x, y, z)\n",
    "# cylindrical(r, theta, z)\n",
    "# spherical(r, phi, theta)"
   ]
  },
  {
   "cell_type": "code",
   "execution_count": 14,
   "metadata": {},
   "outputs": [
    {
     "data": {
      "application/vnd.jupyter.widget-view+json": {
       "model_id": "bf9388a03c32479db05e3ad75d62dd60",
       "version_major": 2,
       "version_minor": 0
      },
      "text/plain": [
       "Canvas(toolbar=Toolbar(toolitems=[('Home', 'Reset original view', 'home', 'home'), ('Back', 'Back to previous …"
      ]
     },
     "metadata": {},
     "output_type": "display_data"
    },
    {
     "ename": "ValueError",
     "evalue": "Argument Z must be 2-dimensional.",
     "output_type": "error",
     "traceback": [
      "\u001b[0;31m---------------------------------------------------------------------------\u001b[0m",
      "\u001b[0;31mValueError\u001b[0m                                Traceback (most recent call last)",
      "\u001b[0;32m<ipython-input-14-dc67aec8f2c1>\u001b[0m in \u001b[0;36m<module>\u001b[0;34m\u001b[0m\n\u001b[1;32m     10\u001b[0m \u001b[0mfig\u001b[0m \u001b[0;34m=\u001b[0m \u001b[0mplt\u001b[0m\u001b[0;34m.\u001b[0m\u001b[0mfigure\u001b[0m\u001b[0;34m(\u001b[0m\u001b[0mfigsize\u001b[0m\u001b[0;34m=\u001b[0m\u001b[0;34m(\u001b[0m\u001b[0;36m5\u001b[0m\u001b[0;34m,\u001b[0m\u001b[0;36m3\u001b[0m\u001b[0;34m)\u001b[0m\u001b[0;34m)\u001b[0m\u001b[0;34m\u001b[0m\u001b[0;34m\u001b[0m\u001b[0m\n\u001b[1;32m     11\u001b[0m \u001b[0max\u001b[0m \u001b[0;34m=\u001b[0m \u001b[0mfig\u001b[0m\u001b[0;34m.\u001b[0m\u001b[0madd_subplot\u001b[0m\u001b[0;34m(\u001b[0m\u001b[0;36m111\u001b[0m\u001b[0;34m,\u001b[0m \u001b[0mprojection\u001b[0m\u001b[0;34m=\u001b[0m\u001b[0;34m'3d'\u001b[0m\u001b[0;34m)\u001b[0m\u001b[0;34m\u001b[0m\u001b[0;34m\u001b[0m\u001b[0m\n\u001b[0;32m---> 12\u001b[0;31m \u001b[0msplot\u001b[0m \u001b[0;34m=\u001b[0m \u001b[0max\u001b[0m\u001b[0;34m.\u001b[0m\u001b[0mplot_surface\u001b[0m\u001b[0;34m(\u001b[0m\u001b[0mx\u001b[0m\u001b[0;34m,\u001b[0m\u001b[0my\u001b[0m\u001b[0;34m,\u001b[0m\u001b[0mz\u001b[0m\u001b[0;34m,\u001b[0m \u001b[0mcmap\u001b[0m\u001b[0;34m=\u001b[0m\u001b[0mcm\u001b[0m\u001b[0;34m.\u001b[0m\u001b[0mcoolwarm\u001b[0m\u001b[0;34m)\u001b[0m\u001b[0;34m\u001b[0m\u001b[0;34m\u001b[0m\u001b[0m\n\u001b[0m\u001b[1;32m     13\u001b[0m \u001b[0mfig\u001b[0m\u001b[0;34m.\u001b[0m\u001b[0mcolorbar\u001b[0m\u001b[0;34m(\u001b[0m\u001b[0msplot\u001b[0m\u001b[0;34m)\u001b[0m\u001b[0;34m\u001b[0m\u001b[0;34m\u001b[0m\u001b[0m\n\u001b[1;32m     14\u001b[0m \u001b[0max\u001b[0m\u001b[0;34m.\u001b[0m\u001b[0mset_xlabel\u001b[0m\u001b[0;34m(\u001b[0m\u001b[0;34m'X'\u001b[0m\u001b[0;34m)\u001b[0m\u001b[0;34m\u001b[0m\u001b[0;34m\u001b[0m\u001b[0m\n",
      "\u001b[0;32m/opt/anaconda/anaconda3/lib/python3.8/site-packages/mpl_toolkits/mplot3d/axes3d.py\u001b[0m in \u001b[0;36mplot_surface\u001b[0;34m(self, X, Y, Z, norm, vmin, vmax, lightsource, *args, **kwargs)\u001b[0m\n\u001b[1;32m   1495\u001b[0m \u001b[0;34m\u001b[0m\u001b[0m\n\u001b[1;32m   1496\u001b[0m         \u001b[0;32mif\u001b[0m \u001b[0mZ\u001b[0m\u001b[0;34m.\u001b[0m\u001b[0mndim\u001b[0m \u001b[0;34m!=\u001b[0m \u001b[0;36m2\u001b[0m\u001b[0;34m:\u001b[0m\u001b[0;34m\u001b[0m\u001b[0;34m\u001b[0m\u001b[0m\n\u001b[0;32m-> 1497\u001b[0;31m             \u001b[0;32mraise\u001b[0m \u001b[0mValueError\u001b[0m\u001b[0;34m(\u001b[0m\u001b[0;34m\"Argument Z must be 2-dimensional.\"\u001b[0m\u001b[0;34m)\u001b[0m\u001b[0;34m\u001b[0m\u001b[0;34m\u001b[0m\u001b[0m\n\u001b[0m\u001b[1;32m   1498\u001b[0m         \u001b[0;32mif\u001b[0m \u001b[0mnp\u001b[0m\u001b[0;34m.\u001b[0m\u001b[0many\u001b[0m\u001b[0;34m(\u001b[0m\u001b[0mnp\u001b[0m\u001b[0;34m.\u001b[0m\u001b[0misnan\u001b[0m\u001b[0;34m(\u001b[0m\u001b[0mZ\u001b[0m\u001b[0;34m)\u001b[0m\u001b[0;34m)\u001b[0m\u001b[0;34m:\u001b[0m\u001b[0;34m\u001b[0m\u001b[0;34m\u001b[0m\u001b[0m\n\u001b[1;32m   1499\u001b[0m             cbook._warn_external(\n",
      "\u001b[0;31mValueError\u001b[0m: Argument Z must be 2-dimensional."
     ]
    }
   ],
   "source": [
    "# Plot surface\n",
    "N=50\n",
    "x = np.linspace(-1,1,N)\n",
    "y = np.linspace(-1,1,N)\n",
    "z = np.meshgrid(x1, y1)\n",
    "\n",
    "z = np.cos(r*np.pi*2)\n",
    "\n",
    "fig = plt.figure(figsize=(5,3))\n",
    "ax = fig.add_subplot(111, projection='3d')\n",
    "splot = ax.plot_surface(x,y,z, cmap=cm.coolwarm)\n",
    "fig.colorbar(splot)\n",
    "ax.set_xlabel('X')\n",
    "ax.set_ylabel('Y')\n",
    "ax.set_zlabel('Z')\n",
    "plt.show()"
   ]
  },
  {
   "cell_type": "code",
   "execution_count": 16,
   "metadata": {},
   "outputs": [
    {
     "data": {
      "application/vnd.jupyter.widget-view+json": {
       "model_id": "39f6e39433a04e2b830956c010b6e8a2",
       "version_major": 2,
       "version_minor": 0
      },
      "text/plain": [
       "Canvas(toolbar=Toolbar(toolitems=[('Home', 'Reset original view', 'home', 'home'), ('Back', 'Back to previous …"
      ]
     },
     "metadata": {},
     "output_type": "display_data"
    }
   ],
   "source": [
    "import numpy as np\n",
    "import matplotlib.pyplot as plt\n",
    "import matplotlib.animation as animation\n",
    "\n",
    "fig, ax = plt.subplots()\n",
    "\n",
    "\n",
    "def f(x, y):\n",
    "    return np.sin(x) + np.cos(y)\n",
    "\n",
    "x = np.linspace(0, 2 * np.pi, 120)\n",
    "y = np.linspace(0, 2 * np.pi, 100).reshape(-1, 1)\n",
    "\n",
    "# ims is a list of lists, each row is a list of artists to draw in the\n",
    "# current frame; here we are just animating one artist, the image, in\n",
    "# each frame\n",
    "ims = []\n",
    "for i in range(60):\n",
    "    x += np.pi / 15.\n",
    "    y += np.pi / 20.\n",
    "    im = ax.imshow(f(x, y), animated=True)\n",
    "    if i == 0:\n",
    "        ax.imshow(f(x, y))  # show an initial one first\n",
    "    ims.append([im])\n",
    "\n",
    "ani = animation.ArtistAnimation(fig, ims, interval=50, blit=True,\n",
    "                                repeat_delay=1000)\n",
    "\n",
    "# To save the animation, use e.g.\n",
    "#\n",
    "# ani.save(\"movie.mp4\")\n",
    "#\n",
    "# or\n",
    "#\n",
    "# writer = animation.FFMpegWriter(\n",
    "#     fps=15, metadata=dict(artist='Me'), bitrate=1800)\n",
    "# ani.save(\"movie.mp4\", writer=writer)\n",
    "\n",
    "plt.show()"
   ]
  },
  {
   "cell_type": "code",
   "execution_count": 18,
   "metadata": {},
   "outputs": [
    {
     "ename": "TypeError",
     "evalue": "get_sample_data() got an unexpected keyword argument 'np_load'",
     "output_type": "error",
     "traceback": [
      "\u001b[0;31m---------------------------------------------------------------------------\u001b[0m",
      "\u001b[0;31mTypeError\u001b[0m                                 Traceback (most recent call last)",
      "\u001b[0;32m<ipython-input-18-0cfce63959f6>\u001b[0m in \u001b[0;36m<module>\u001b[0;34m\u001b[0m\n\u001b[1;32m      5\u001b[0m \u001b[0;32mimport\u001b[0m \u001b[0mnumpy\u001b[0m \u001b[0;32mas\u001b[0m \u001b[0mnp\u001b[0m\u001b[0;34m\u001b[0m\u001b[0;34m\u001b[0m\u001b[0m\n\u001b[1;32m      6\u001b[0m \u001b[0;34m\u001b[0m\u001b[0m\n\u001b[0;32m----> 7\u001b[0;31m \u001b[0mdem\u001b[0m \u001b[0;34m=\u001b[0m \u001b[0mcbook\u001b[0m\u001b[0;34m.\u001b[0m\u001b[0mget_sample_data\u001b[0m\u001b[0;34m(\u001b[0m\u001b[0;34m'jacksboro_fault_dem.npz'\u001b[0m\u001b[0;34m,\u001b[0m \u001b[0mnp_load\u001b[0m\u001b[0;34m=\u001b[0m\u001b[0;32mTrue\u001b[0m\u001b[0;34m)\u001b[0m\u001b[0;34m\u001b[0m\u001b[0;34m\u001b[0m\u001b[0m\n\u001b[0m\u001b[1;32m      8\u001b[0m \u001b[0mz\u001b[0m \u001b[0;34m=\u001b[0m \u001b[0mdem\u001b[0m\u001b[0;34m[\u001b[0m\u001b[0;34m'elevation'\u001b[0m\u001b[0;34m]\u001b[0m\u001b[0;34m\u001b[0m\u001b[0;34m\u001b[0m\u001b[0m\n\u001b[1;32m      9\u001b[0m \u001b[0mnrows\u001b[0m\u001b[0;34m,\u001b[0m \u001b[0mncols\u001b[0m \u001b[0;34m=\u001b[0m \u001b[0mz\u001b[0m\u001b[0;34m.\u001b[0m\u001b[0mshape\u001b[0m\u001b[0;34m\u001b[0m\u001b[0;34m\u001b[0m\u001b[0m\n",
      "\u001b[0;31mTypeError\u001b[0m: get_sample_data() got an unexpected keyword argument 'np_load'"
     ]
    }
   ],
   "source": [
    "from matplotlib import cbook\n",
    "from matplotlib import cm\n",
    "from matplotlib.colors import LightSource\n",
    "import matplotlib.pyplot as plt\n",
    "import numpy as np\n",
    "\n",
    "dem = cbook.get_sample_data('jacksboro_fault_dem.npz', np_load=True)\n",
    "z = dem['elevation']\n",
    "nrows, ncols = z.shape\n",
    "x = np.linspace(dem['xmin'], dem['xmax'], ncols)\n",
    "y = np.linspace(dem['ymin'], dem['ymax'], nrows)\n",
    "x, y = np.meshgrid(x, y)\n",
    "\n",
    "region = np.s_[5:50, 5:50]\n",
    "x, y, z = x[region], y[region], z[region]\n",
    "\n",
    "fig, ax = plt.subplots(subplot_kw=dict(projection='3d'))\n",
    "\n",
    "ls = LightSource(270, 45)\n",
    "# To use a custom hillshading mode, override the built-in shading and pass\n",
    "# in the rgb colors of the shaded surface calculated from \"shade\".\n",
    "rgb = ls.shade(z, cmap=cm.gist_earth, vert_exag=0.1, blend_mode='soft')\n",
    "surf = ax.plot_surface(x, y, z, rstride=1, cstride=1, facecolors=rgb,\n",
    "                       linewidth=0, antialiased=False, shade=False)\n",
    "ax.set_xticks([])\n",
    "ax.set_yticks([])\n",
    "ax.set_zticks([])\n",
    "fig.savefig(\"surface3d_frontpage.png\", dpi=25)  # results in 160x120 px image\n"
   ]
  },
  {
   "cell_type": "code",
   "execution_count": 19,
   "metadata": {},
   "outputs": [
    {
     "data": {
      "application/vnd.jupyter.widget-view+json": {
       "model_id": "742cfb4ea5904b189d4876e886d34773",
       "version_major": 2,
       "version_minor": 0
      },
      "text/plain": [
       "Canvas(toolbar=Toolbar(toolitems=[('Home', 'Reset original view', 'home', 'home'), ('Back', 'Back to previous …"
      ]
     },
     "metadata": {},
     "output_type": "display_data"
    }
   ],
   "source": [
    "from mpl_toolkits.mplot3d import axes3d\n",
    "import matplotlib.pyplot as plt\n",
    "\n",
    "\n",
    "fig = plt.figure()\n",
    "ax = fig.add_subplot(111, projection='3d')\n",
    "\n",
    "# Grab some test data.\n",
    "X, Y, Z = axes3d.get_test_data(0.05)\n",
    "\n",
    "# Plot a basic wireframe.\n",
    "ax.plot_wireframe(X, Y, Z, rstride=10, cstride=10)\n",
    "\n",
    "plt.show()"
   ]
  },
  {
   "cell_type": "code",
   "execution_count": 20,
   "metadata": {},
   "outputs": [
    {
     "data": {
      "text/plain": [
       "array([[-30. , -29.5, -29. , ...,  28.5,  29. ,  29.5],\n",
       "       [-30. , -29.5, -29. , ...,  28.5,  29. ,  29.5],\n",
       "       [-30. , -29.5, -29. , ...,  28.5,  29. ,  29.5],\n",
       "       ...,\n",
       "       [-30. , -29.5, -29. , ...,  28.5,  29. ,  29.5],\n",
       "       [-30. , -29.5, -29. , ...,  28.5,  29. ,  29.5],\n",
       "       [-30. , -29.5, -29. , ...,  28.5,  29. ,  29.5]])"
      ]
     },
     "execution_count": 20,
     "metadata": {},
     "output_type": "execute_result"
    }
   ],
   "source": [
    "X"
   ]
  },
  {
   "cell_type": "code",
   "execution_count": 21,
   "metadata": {},
   "outputs": [
    {
     "data": {
      "text/plain": [
       "array([[-30. , -30. , -30. , ..., -30. , -30. , -30. ],\n",
       "       [-29.5, -29.5, -29.5, ..., -29.5, -29.5, -29.5],\n",
       "       [-29. , -29. , -29. , ..., -29. , -29. , -29. ],\n",
       "       ...,\n",
       "       [ 28.5,  28.5,  28.5, ...,  28.5,  28.5,  28.5],\n",
       "       [ 29. ,  29. ,  29. , ...,  29. ,  29. ,  29. ],\n",
       "       [ 29.5,  29.5,  29.5, ...,  29.5,  29.5,  29.5]])"
      ]
     },
     "execution_count": 21,
     "metadata": {},
     "output_type": "execute_result"
    }
   ],
   "source": [
    "Y"
   ]
  },
  {
   "cell_type": "code",
   "execution_count": 22,
   "metadata": {},
   "outputs": [
    {
     "data": {
      "text/plain": [
       "array([[-0.00982064, -0.0113957 , -0.01319036, ..., -0.01522953,\n",
       "        -0.01319036, -0.0113957 ],\n",
       "       [-0.0113957 , -0.01322338, -0.01530587, ..., -0.01767209,\n",
       "        -0.01530587, -0.01322338],\n",
       "       [-0.01319036, -0.01530587, -0.01771632, ..., -0.02045518,\n",
       "        -0.01771632, -0.01530587],\n",
       "       ...,\n",
       "       [-0.01200234, -0.01414685, -0.01660867, ...,  0.02918791,\n",
       "         0.03019517,  0.03085725],\n",
       "       [-0.01097235, -0.01288301, -0.01507265, ...,  0.01583738,\n",
       "         0.01709512,  0.01804782],\n",
       "       [-0.00988645, -0.01157475, -0.01350698, ...,  0.00702321,\n",
       "         0.0083816 ,  0.00947216]])"
      ]
     },
     "execution_count": 22,
     "metadata": {},
     "output_type": "execute_result"
    }
   ],
   "source": [
    "Z"
   ]
  },
  {
   "cell_type": "code",
   "execution_count": 29,
   "metadata": {},
   "outputs": [
    {
     "name": "stderr",
     "output_type": "stream",
     "text": [
      "<ipython-input-29-0a92bd9dd501>:7: RuntimeWarning: More than 20 figures have been opened. Figures created through the pyplot interface (`matplotlib.pyplot.figure`) are retained until explicitly closed and may consume too much memory. (To control this warning, see the rcParam `figure.max_open_warning`).\n",
      "  fig = plt.figure()\n"
     ]
    },
    {
     "data": {
      "application/vnd.jupyter.widget-view+json": {
       "model_id": "3dc4a3990b6843f89397e0801f339aa6",
       "version_major": 2,
       "version_minor": 0
      },
      "text/plain": [
       "Canvas(toolbar=Toolbar(toolitems=[('Home', 'Reset original view', 'home', 'home'), ('Back', 'Back to previous …"
      ]
     },
     "metadata": {},
     "output_type": "display_data"
    }
   ],
   "source": [
    "from mpl_toolkits.mplot3d import Axes3D\n",
    "import matplotlib.pyplot as plt\n",
    "import numpy as np\n",
    "from itertools import product, combinations\n",
    "\n",
    "\n",
    "fig = plt.figure()\n",
    "ax = fig.gca(projection='3d')\n",
    "#ax.set_aspect(\"equal\")\n",
    "\n",
    "# draw cube\n",
    "r = [-1, 1]\n",
    "for s, e in combinations(np.array(list(product(r, r, r))), 2):\n",
    "    if np.sum(np.abs(s-e)) == r[1]-r[0]:\n",
    "        ax.plot3D(*zip(s, e), color=\"b\")\n",
    "\n",
    "# draw sphere\n",
    "u, v = np.mgrid[0:2*np.pi:20j, 0:np.pi:10j]\n",
    "x = np.cos(u)*np.sin(v)\n",
    "y = np.sin(u)*np.sin(v)\n",
    "z = np.cos(v)\n",
    "ax.plot_wireframe(x, y, z, color=\"r\")\n",
    "\n",
    "# draw a point\n",
    "ax.scatter([0], [0], [0], color=\"g\", s=100)\n",
    "\n",
    "# draw a vector\n",
    "from matplotlib.patches import FancyArrowPatch\n",
    "from mpl_toolkits.mplot3d import proj3d\n",
    "\n",
    "\n",
    "class Arrow3D(FancyArrowPatch):\n",
    "\n",
    "    def __init__(self, xs, ys, zs, *args, **kwargs):\n",
    "        FancyArrowPatch.__init__(self, (0, 0), (0, 0), *args, **kwargs)\n",
    "        self._verts3d = xs, ys, zs\n",
    "\n",
    "    def draw(self, renderer):\n",
    "        xs3d, ys3d, zs3d = self._verts3d\n",
    "        xs, ys, zs = proj3d.proj_transform(xs3d, ys3d, zs3d, renderer.M)\n",
    "        self.set_positions((xs[0], ys[0]), (xs[1], ys[1]))\n",
    "        FancyArrowPatch.draw(self, renderer)\n",
    "\n",
    "a = Arrow3D([0, 1], [0, 1], [0, 1], mutation_scale=20,\n",
    "            lw=1, arrowstyle=\"-|>\", color=\"k\")\n",
    "ax.add_artist(a)\n",
    "plt.show()"
   ]
  },
  {
   "cell_type": "code",
   "execution_count": null,
   "metadata": {},
   "outputs": [],
   "source": []
  }
 ],
 "metadata": {
  "kernelspec": {
   "display_name": "Python 3",
   "language": "python",
   "name": "python3"
  },
  "language_info": {
   "codemirror_mode": {
    "name": "ipython",
    "version": 3
   },
   "file_extension": ".py",
   "mimetype": "text/x-python",
   "name": "python",
   "nbconvert_exporter": "python",
   "pygments_lexer": "ipython3",
   "version": "3.8.3"
  }
 },
 "nbformat": 4,
 "nbformat_minor": 4
}
